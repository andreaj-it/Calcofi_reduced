{
 "cells": [
  {
   "cell_type": "code",
   "execution_count": 3,
   "metadata": {},
   "outputs": [],
   "source": [
    "# Step 0. Load libraries and modules\n",
    "import pandas as pd\n",
    "import numpy as np\n",
    "import matplotlib.pyplot as plt\n",
    "import plotly.express as px\n",
    "import statsmodels.formula.api as smf\n",
    "from sklearn.linear_model import LinearRegression\n",
    "from sklearn.preprocessing import MinMaxScaler\n",
    "from sklearn.model_selection import train_test_split\n",
    "from sklearn.metrics import mean_squared_error, r2_score"
   ]
  },
  {
   "cell_type": "code",
   "execution_count": 8,
   "metadata": {},
   "outputs": [],
   "source": [
    "# Step 1. Load the dataset\n",
    "# Credits:  California Cooperative Oceanic Fisheries Investigations\n",
    "# URL: https://www.kaggle.com/datasets/sohier/calcofi?select=bottle.csv\n",
    "# Drescription: The CalCOFI data set represents the longest (1949-present) \n",
    "# and most complete (more than 50,000 sampling stations) time series of \n",
    "# oceanographic and larval fish data in the world. It includes abundance \n",
    "# data on the larvae of over 250 species of fish; larval length frequency \n",
    "# data and egg abundance data on key commercial species; and oceanographic \n",
    "# and plankton data. The physical, chemical, and biological data collected \n",
    "# at regular time and space intervals quickly became valuable for \n",
    "# documenting climatic cycles in the California Current and a range of \n",
    "# biological responses to them. \n",
    "\n",
    "#df_raw = pd.read_csv('../data/raw/calcofi_reduced.csv') -> asi lo paso el profe, luego del info veo q tengo q ponerle index_col=0\n",
    "\n",
    "df_raw = pd.read_csv('../data/raw/calcofi_reduced.csv', index_col=0)"
   ]
  },
  {
   "cell_type": "code",
   "execution_count": 9,
   "metadata": {},
   "outputs": [
    {
     "name": "stdout",
     "output_type": "stream",
     "text": [
      "<class 'pandas.core.frame.DataFrame'>\n",
      "Int64Index: 300 entries, 0 to 299\n",
      "Data columns (total 2 columns):\n",
      " #   Column  Non-Null Count  Dtype  \n",
      "---  ------  --------------  -----  \n",
      " 0   Salnty  300 non-null    float64\n",
      " 1   T_degC  300 non-null    float64\n",
      "dtypes: float64(2)\n",
      "memory usage: 7.0 KB\n"
     ]
    }
   ],
   "source": [
    "# 1.1 Get basic info\n",
    "df_raw.info()\n",
    "\n",
    "#veo q tengo una variable q no sirve la del index, por eso le saco la columna indice, se la saco cuando abro el file"
   ]
  },
  {
   "cell_type": "code",
   "execution_count": 41,
   "metadata": {},
   "outputs": [
    {
     "data": {
      "text/html": [
       "<div>\n",
       "<style scoped>\n",
       "    .dataframe tbody tr th:only-of-type {\n",
       "        vertical-align: middle;\n",
       "    }\n",
       "\n",
       "    .dataframe tbody tr th {\n",
       "        vertical-align: top;\n",
       "    }\n",
       "\n",
       "    .dataframe thead th {\n",
       "        text-align: right;\n",
       "    }\n",
       "</style>\n",
       "<table border=\"1\" class=\"dataframe\">\n",
       "  <thead>\n",
       "    <tr style=\"text-align: right;\">\n",
       "      <th></th>\n",
       "      <th>Salnty</th>\n",
       "      <th>T_degC</th>\n",
       "    </tr>\n",
       "  </thead>\n",
       "  <tbody>\n",
       "    <tr>\n",
       "      <th>269</th>\n",
       "      <td>34.200</td>\n",
       "      <td>4.32</td>\n",
       "    </tr>\n",
       "    <tr>\n",
       "      <th>75</th>\n",
       "      <td>33.460</td>\n",
       "      <td>8.92</td>\n",
       "    </tr>\n",
       "    <tr>\n",
       "      <th>174</th>\n",
       "      <td>33.120</td>\n",
       "      <td>10.36</td>\n",
       "    </tr>\n",
       "    <tr>\n",
       "      <th>128</th>\n",
       "      <td>34.101</td>\n",
       "      <td>5.02</td>\n",
       "    </tr>\n",
       "    <tr>\n",
       "      <th>273</th>\n",
       "      <td>33.939</td>\n",
       "      <td>6.85</td>\n",
       "    </tr>\n",
       "    <tr>\n",
       "      <th>170</th>\n",
       "      <td>32.791</td>\n",
       "      <td>9.20</td>\n",
       "    </tr>\n",
       "    <tr>\n",
       "      <th>256</th>\n",
       "      <td>33.042</td>\n",
       "      <td>12.25</td>\n",
       "    </tr>\n",
       "    <tr>\n",
       "      <th>147</th>\n",
       "      <td>32.827</td>\n",
       "      <td>11.31</td>\n",
       "    </tr>\n",
       "    <tr>\n",
       "      <th>223</th>\n",
       "      <td>34.385</td>\n",
       "      <td>3.08</td>\n",
       "    </tr>\n",
       "    <tr>\n",
       "      <th>114</th>\n",
       "      <td>34.268</td>\n",
       "      <td>3.63</td>\n",
       "    </tr>\n",
       "  </tbody>\n",
       "</table>\n",
       "</div>"
      ],
      "text/plain": [
       "     Salnty  T_degC\n",
       "269  34.200    4.32\n",
       "75   33.460    8.92\n",
       "174  33.120   10.36\n",
       "128  34.101    5.02\n",
       "273  33.939    6.85\n",
       "170  32.791    9.20\n",
       "256  33.042   12.25\n",
       "147  32.827   11.31\n",
       "223  34.385    3.08\n",
       "114  34.268    3.63"
      ]
     },
     "execution_count": 41,
     "metadata": {},
     "output_type": "execute_result"
    }
   ],
   "source": [
    "# 1.2 Take a sample\n",
    "df_raw.sample(10)"
   ]
  },
  {
   "cell_type": "code",
   "execution_count": null,
   "metadata": {},
   "outputs": [],
   "source": [
    "# 1.3 Transform if needed\n",
    "#Salnty -> salinidad\n",
    "#T_degC -> grados en celcios\n",
    "\n",
    "#en este caso no tengo q tranformar nada, no tengo var categoricas ni fechas"
   ]
  },
  {
   "cell_type": "code",
   "execution_count": 11,
   "metadata": {},
   "outputs": [],
   "source": [
    "# Step 2. Make a basic EDA\n",
    "df = df_raw.copy()\n",
    "#simpre hacemos una copia luego de tranformar el dato crudo\n",
    "#crudos sin tocar\n",
    "#interin -> va el df, despues de hacer el copi, mando este dato a la capeta data interin, o sea el csv cortado\n",
    "#proces"
   ]
  },
  {
   "cell_type": "code",
   "execution_count": 42,
   "metadata": {},
   "outputs": [],
   "source": [
    "# 2.1 Split the dataset so to avoid bias\n",
    "X = df['Salnty'] #esta es nuestra var X son las variables predictoras\n",
    "y = df['T_degC'] #nuestra y\n",
    "\n",
    "#separamos antes del EDA, para evitar el sesgo y hago el EDA solo en el data set de test\n",
    "\n",
    "X_train, X_test, y_train, y_test = train_test_split(X, y, random_state=53)\n",
    "\n",
    "#con esto evito es sesgo\n",
    "\n",
    "\n"
   ]
  },
  {
   "cell_type": "code",
   "execution_count": 53,
   "metadata": {},
   "outputs": [],
   "source": [
    "# 2.2 Join the train sets to ease insights\n",
    "#x pongo todas las variables predictorias q quiero, uso mas braquets vero otros ejemplos de clase q tenemos\n",
    "\n",
    "df_train = pd.DataFrame({'Salinity':X_train,'Temperature':y_train})"
   ]
  },
  {
   "cell_type": "code",
   "execution_count": 44,
   "metadata": {},
   "outputs": [
    {
     "name": "stdout",
     "output_type": "stream",
     "text": [
      "<class 'pandas.core.frame.DataFrame'>\n",
      "Int64Index: 300 entries, 0 to 299\n",
      "Data columns (total 2 columns):\n",
      " #   Column  Non-Null Count  Dtype  \n",
      "---  ------  --------------  -----  \n",
      " 0   Salnty  300 non-null    float64\n",
      " 1   T_degC  300 non-null    float64\n",
      "dtypes: float64(2)\n",
      "memory usage: 7.0 KB\n"
     ]
    }
   ],
   "source": [
    "# 2.3 Get basic info\n",
    "df_raw.info()"
   ]
  },
  {
   "cell_type": "code",
   "execution_count": 54,
   "metadata": {},
   "outputs": [
    {
     "data": {
      "text/html": [
       "<div>\n",
       "<style scoped>\n",
       "    .dataframe tbody tr th:only-of-type {\n",
       "        vertical-align: middle;\n",
       "    }\n",
       "\n",
       "    .dataframe tbody tr th {\n",
       "        vertical-align: top;\n",
       "    }\n",
       "\n",
       "    .dataframe thead th {\n",
       "        text-align: right;\n",
       "    }\n",
       "</style>\n",
       "<table border=\"1\" class=\"dataframe\">\n",
       "  <thead>\n",
       "    <tr style=\"text-align: right;\">\n",
       "      <th></th>\n",
       "      <th>Salinity</th>\n",
       "      <th>Temperature</th>\n",
       "    </tr>\n",
       "  </thead>\n",
       "  <tbody>\n",
       "    <tr>\n",
       "      <th>39</th>\n",
       "      <td>34.408</td>\n",
       "      <td>2.88</td>\n",
       "    </tr>\n",
       "    <tr>\n",
       "      <th>220</th>\n",
       "      <td>33.165</td>\n",
       "      <td>9.90</td>\n",
       "    </tr>\n",
       "    <tr>\n",
       "      <th>46</th>\n",
       "      <td>32.840</td>\n",
       "      <td>11.61</td>\n",
       "    </tr>\n",
       "    <tr>\n",
       "      <th>191</th>\n",
       "      <td>33.926</td>\n",
       "      <td>6.93</td>\n",
       "    </tr>\n",
       "    <tr>\n",
       "      <th>246</th>\n",
       "      <td>33.212</td>\n",
       "      <td>12.66</td>\n",
       "    </tr>\n",
       "    <tr>\n",
       "      <th>35</th>\n",
       "      <td>33.533</td>\n",
       "      <td>8.60</td>\n",
       "    </tr>\n",
       "    <tr>\n",
       "      <th>82</th>\n",
       "      <td>32.740</td>\n",
       "      <td>9.70</td>\n",
       "    </tr>\n",
       "    <tr>\n",
       "      <th>175</th>\n",
       "      <td>33.490</td>\n",
       "      <td>9.17</td>\n",
       "    </tr>\n",
       "    <tr>\n",
       "      <th>95</th>\n",
       "      <td>33.147</td>\n",
       "      <td>10.21</td>\n",
       "    </tr>\n",
       "    <tr>\n",
       "      <th>210</th>\n",
       "      <td>33.996</td>\n",
       "      <td>4.71</td>\n",
       "    </tr>\n",
       "  </tbody>\n",
       "</table>\n",
       "</div>"
      ],
      "text/plain": [
       "     Salinity  Temperature\n",
       "39     34.408         2.88\n",
       "220    33.165         9.90\n",
       "46     32.840        11.61\n",
       "191    33.926         6.93\n",
       "246    33.212        12.66\n",
       "35     33.533         8.60\n",
       "82     32.740         9.70\n",
       "175    33.490         9.17\n",
       "95     33.147        10.21\n",
       "210    33.996         4.71"
      ]
     },
     "execution_count": 54,
     "metadata": {},
     "output_type": "execute_result"
    }
   ],
   "source": [
    "# 2.4 Take a sample\n",
    "df_train.sample(10)"
   ]
  },
  {
   "cell_type": "code",
   "execution_count": 55,
   "metadata": {},
   "outputs": [
    {
     "data": {
      "text/html": [
       "<div>\n",
       "<style scoped>\n",
       "    .dataframe tbody tr th:only-of-type {\n",
       "        vertical-align: middle;\n",
       "    }\n",
       "\n",
       "    .dataframe tbody tr th {\n",
       "        vertical-align: top;\n",
       "    }\n",
       "\n",
       "    .dataframe thead th {\n",
       "        text-align: right;\n",
       "    }\n",
       "</style>\n",
       "<table border=\"1\" class=\"dataframe\">\n",
       "  <thead>\n",
       "    <tr style=\"text-align: right;\">\n",
       "      <th></th>\n",
       "      <th>Salinity</th>\n",
       "      <th>Temperature</th>\n",
       "    </tr>\n",
       "  </thead>\n",
       "  <tbody>\n",
       "    <tr>\n",
       "      <th>count</th>\n",
       "      <td>225.000000</td>\n",
       "      <td>225.000000</td>\n",
       "    </tr>\n",
       "    <tr>\n",
       "      <th>mean</th>\n",
       "      <td>33.591058</td>\n",
       "      <td>7.975911</td>\n",
       "    </tr>\n",
       "    <tr>\n",
       "      <th>std</th>\n",
       "      <td>0.565969</td>\n",
       "      <td>2.930263</td>\n",
       "    </tr>\n",
       "    <tr>\n",
       "      <th>min</th>\n",
       "      <td>32.630000</td>\n",
       "      <td>2.780000</td>\n",
       "    </tr>\n",
       "    <tr>\n",
       "      <th>25%</th>\n",
       "      <td>33.010000</td>\n",
       "      <td>5.140000</td>\n",
       "    </tr>\n",
       "    <tr>\n",
       "      <th>50%</th>\n",
       "      <td>33.724000</td>\n",
       "      <td>8.290000</td>\n",
       "    </tr>\n",
       "    <tr>\n",
       "      <th>75%</th>\n",
       "      <td>34.101000</td>\n",
       "      <td>10.220000</td>\n",
       "    </tr>\n",
       "    <tr>\n",
       "      <th>max</th>\n",
       "      <td>34.450000</td>\n",
       "      <td>12.660000</td>\n",
       "    </tr>\n",
       "  </tbody>\n",
       "</table>\n",
       "</div>"
      ],
      "text/plain": [
       "         Salinity  Temperature\n",
       "count  225.000000   225.000000\n",
       "mean    33.591058     7.975911\n",
       "std      0.565969     2.930263\n",
       "min     32.630000     2.780000\n",
       "25%     33.010000     5.140000\n",
       "50%     33.724000     8.290000\n",
       "75%     34.101000    10.220000\n",
       "max     34.450000    12.660000"
      ]
     },
     "execution_count": 55,
     "metadata": {},
     "output_type": "execute_result"
    }
   ],
   "source": [
    "# 2.5 Describe the numerical and date variables\n",
    "df_train.describe() #medidas de tendencia central y descripcion"
   ]
  },
  {
   "cell_type": "code",
   "execution_count": 22,
   "metadata": {},
   "outputs": [],
   "source": [
    "# 2.6 Describe the categorical variables\n",
    "#aca cambiaria las variables a categoricas si ubiera\n"
   ]
  },
  {
   "cell_type": "code",
   "execution_count": 56,
   "metadata": {},
   "outputs": [
    {
     "data": {
      "image/png": "[encoded data removed]",
      "text/plain": [
       "<Figure size 576x288 with 2 Axes>"
      ]
     },
     "metadata": {
      "needs_background": "light"
     },
     "output_type": "display_data"
    }
   ],
   "source": [
    "# 2.7 Perform univariate analysis - histograms\n",
    "df_train.hist(figsize=(8,4),sharey=True,alpha=0.6)\n",
    "plt.show()\n",
    "\n",
    "#no veo ninguna campana, por lo q no se ve normal"
   ]
  },
  {
   "cell_type": "code",
   "execution_count": 57,
   "metadata": {},
   "outputs": [
    {
     "data": {
      "image/png": "[encoded data removed]",
      "text/plain": [
       "<Figure size 576x288 with 2 Axes>"
      ]
     },
     "metadata": {
      "needs_background": "light"
     },
     "output_type": "display_data"
    }
   ],
   "source": [
    "# 2.8 Perform univariate analysis - boxplots\n",
    "\n",
    "fig,ax = plt.subplots(1,2,figsize=(8,4))\n",
    "df_train[['Temperature']].boxplot(ax=ax[0])\n",
    "df_train[['Salinity']].boxplot(ax=ax[1])\n",
    "plt.show()"
   ]
  },
  {
   "cell_type": "code",
   "execution_count": 69,
   "metadata": {},
   "outputs": [
    {
     "data": {
      "image/png": "[encoded data removed]",
      "text/plain": [
       "<Figure size 432x432 with 4 Axes>"
      ]
     },
     "metadata": {
      "needs_background": "light"
     },
     "output_type": "display_data"
    }
   ],
   "source": [
    "# 2.9 Perform bivariate analysis - scatter matrix\n",
    "\n",
    "pd.plotting.scatter_matrix(df_train,diagonal='kde',figsize=(6,6))\n",
    "plt.show()\n"
   ]
  },
  {
   "cell_type": "code",
   "execution_count": null,
   "metadata": {},
   "outputs": [],
   "source": [
    "# 2.10 Perform correlation analysis - Pearson or Point Biserial\n",
    "#tenemos una sola variablae por eso no se hace esto"
   ]
  },
  {
   "cell_type": "code",
   "execution_count": null,
   "metadata": {},
   "outputs": [],
   "source": [
    "# 2.11 Perform multivariate analysis - VIF\n",
    "#tenemos una sola variablae por eso no se hace esto"
   ]
  },
  {
   "cell_type": "code",
   "execution_count": null,
   "metadata": {},
   "outputs": [],
   "source": [
    "# Step 3. Create and evaluate model - Define your approach and goals\n",
    "#objetivo es prnosticar en base al problema\n",
    "#utilizo los modelados y veo cual sirve, escribo porq  eligo el aproach de porq estoy haciendo eso en modelamiento\n",
    "#si uso regresion etc, aca solo escribo , detallo lo q voy a hacer"
   ]
  },
  {
   "cell_type": "code",
   "execution_count": 64,
   "metadata": {},
   "outputs": [
    {
     "name": "stdout",
     "output_type": "stream",
     "text": [
      "score is  0.8304\n"
     ]
    }
   ],
   "source": [
    "# 3.1 Perform model fit - A\n",
    "\n",
    "#R2 : proportion of the variance in DV explained by IV\n",
    "sklm = LinearRegression() #primer modelo con sklearn\n",
    "sklm.fit(X_train.to_frame(),y_train)\n",
    "score = sklm.score(X_train.to_frame(),y_train)\n",
    "print(f'score is {score: .4f}')\n",
    "\n",
    "#cuando es solo una var predictora, sklearn no interpreta bien tengo q ponerle el to_frame\n",
    "#si tengo 2 o mas vars predictorias no preciso el to_frame\n",
    "\n"
   ]
  },
  {
   "cell_type": "code",
   "execution_count": 65,
   "metadata": {},
   "outputs": [
    {
     "name": "stdout",
     "output_type": "stream",
     "text": [
      "The R2 score is: 0.8373339448154533\n",
      "The RMSE: Root mean squared error is : 1.233686982872781\n"
     ]
    }
   ],
   "source": [
    "#corro el metodo de evaluacion, en el dataset de prueba\n",
    "predictions = sklm.predict(X_test.to_frame())\n",
    "print(f'The R2 score is: {r2_score(y_test,predictions)}')\n",
    "print(f'The RMSE: Root mean squared error is : {mean_squared_error(y_test, predictions,squared=False)}')"
   ]
  },
  {
   "cell_type": "code",
   "execution_count": 66,
   "metadata": {},
   "outputs": [
    {
     "data": {
      "image/png": "[encoded data removed]",
      "text/plain": [
       "<Figure size 432x288 with 1 Axes>"
      ]
     },
     "metadata": {
      "needs_background": "light"
     },
     "output_type": "display_data"
    }
   ],
   "source": [
    "plt.scatter(x=X_test, y=y_test, color='Blue')\n",
    "plt.scatter(x=X_test, y=predictions, color='Red')\n",
    "plt.show()"
   ]
  },
  {
   "cell_type": "code",
   "execution_count": 70,
   "metadata": {},
   "outputs": [
    {
     "name": "stdout",
     "output_type": "stream",
     "text": [
      "                            OLS Regression Results                            \n",
      "==============================================================================\n",
      "Dep. Variable:            Temperature   R-squared:                       0.830\n",
      "Model:                            OLS   Adj. R-squared:                  0.830\n",
      "Method:                 Least Squares   F-statistic:                     1091.\n",
      "Date:                Wed, 06 Jul 2022   Prob (F-statistic):           7.28e-88\n",
      "Time:                        22:29:34   Log-Likelihood:                -361.08\n",
      "No. Observations:                 225   AIC:                             726.2\n",
      "Df Residuals:                     223   BIC:                             733.0\n",
      "Df Model:                           1                                         \n",
      "Covariance Type:            nonrobust                                         \n",
      "==============================================================================\n",
      "                 coef    std err          t      P>|t|      [0.025      0.975]\n",
      "------------------------------------------------------------------------------\n",
      "Intercept    166.4537      4.798     34.695      0.000     156.999     175.908\n",
      "Salinity      -4.7179      0.143    -33.038      0.000      -4.999      -4.436\n",
      "==============================================================================\n",
      "Omnibus:                        0.767   Durbin-Watson:                   1.964\n",
      "Prob(Omnibus):                  0.682   Jarque-Bera (JB):                0.867\n",
      "Skew:                           0.068   Prob(JB):                        0.648\n",
      "Kurtosis:                       2.728   Cond. No.                     2.00e+03\n",
      "==============================================================================\n",
      "\n",
      "Notes:\n",
      "[1] Standard Errors assume that the covariance matrix of the errors is correctly specified.\n",
      "[2] The condition number is large,  2e+03. This might indicate that there are\n",
      "strong multicollinearity or other numerical problems.\n"
     ]
    }
   ],
   "source": [
    "# 3.2 Perform model fit - B\n",
    "#me faltan los intervalos de confianza, me tiene q dar el mismo resultado q el anterior , esto da mas info! q el anterior.\n",
    "results = smf.ols('Temperature ~ Salinity', data=df_train).fit() #uso la formula full R\n",
    "print(results.summary())"
   ]
  },
  {
   "cell_type": "code",
   "execution_count": null,
   "metadata": {},
   "outputs": [],
   "source": [
    "#y = a + bX"
   ]
  },
  {
   "cell_type": "code",
   "execution_count": null,
   "metadata": {},
   "outputs": [],
   "source": [
    "# 3.3 Calculate metrics on model A"
   ]
  },
  {
   "cell_type": "code",
   "execution_count": null,
   "metadata": {},
   "outputs": [],
   "source": [
    "# 3.4 Calculate metrics on model B"
   ]
  },
  {
   "cell_type": "code",
   "execution_count": null,
   "metadata": {},
   "outputs": [],
   "source": [
    "# Step 4. Write up your conclusions\n",
    "#Hemos utilizado los sig pasos para calclar\n",
    "#hemos decidido retirar los valores por x y x \n",
    "#hemos encontrado var de ..\n",
    "#cuento la historia de los datos q levante\n",
    "#y concluyo q este modelo puede ajustarse .. escuchar el replay de la clase, porq fue muy rapido!\n",
    "\n",
    "#el modelo es una consecuencia de un buen eda\n",
    "\n",
    "#puedo poner recomendaciones\n",
    "\n",
    "#"
   ]
  }
 ],
 "metadata": {
  "kernelspec": {
   "display_name": "Python 3.7.10 ('Commons')",
   "language": "python",
   "name": "python3"
  },
  "language_info": {
   "name": "python",
   "version": "3.7.10"
  },
  "orig_nbformat": 4,
  "vscode": {
   "interpreter": {
    "hash": "bc7f7a2d7b5a13e1df9879b693cf35a001b0abe7ad7fabfa2efe5a3b8907473a"
   }
  }
 },
 "nbformat": 4,
 "nbformat_minor": 2
}
